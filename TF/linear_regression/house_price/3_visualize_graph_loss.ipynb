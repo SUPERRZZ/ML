{
 "cells": [
  {
   "cell_type": "code",
   "execution_count": 1,
   "metadata": {},
   "outputs": [
    {
     "name": "stdout",
     "output_type": "stream",
     "text": [
      "(47, 3) <class 'numpy.ndarray'>\n",
      "(47, 1) <class 'numpy.ndarray'>\n"
     ]
    }
   ],
   "source": [
    "import pandas as pd\n",
    "import numpy as np\n",
    "\n",
    "def normalize_feature(df):\n",
    "    return df.apply(lambda column: (column - column.mean()) / column.std())\n",
    "\n",
    "df = normalize_feature(pd.read_csv('data1.csv', names=['square', 'bedrooms', 'price']))\n",
    "\n",
    "ones = pd.DataFrame({'ones': np.ones(len(df))})   # ones是n行1列的数据框，表示x0恒为1\n",
    "df = pd.concat([ones, df], axis=1)   # 根据列合并数据\n",
    "\n",
    "X_data = np.array(df[df.columns[0:3]])\n",
    "y_data = np.array(df[df.columns[-1]]).reshape(len(df), 1)\n",
    "\n",
    "print(X_data.shape, type(X_data))\n",
    "print(y_data.shape, type(y_data))"
   ]
  },
  {
   "cell_type": "markdown",
   "metadata": {},
   "source": [
    "# 创建线性回归模型（数据流图）"
   ]
  },
  {
   "cell_type": "code",
   "execution_count": 2,
   "metadata": {},
   "outputs": [],
   "source": [
    "import tensorflow as tf\n",
    "\n",
    "alpha = 0.01 # 学习率 alpha\n",
    "epoch = 500 # 训练全量数据集的轮数\n",
    "\n",
    "with tf.name_scope('input'):\n",
    "    # 输入 X，形状[47, 3]\n",
    "    X = tf.placeholder(tf.float32, X_data.shape, name='X')\n",
    "    # 输出 y，形状[47, 1]\n",
    "    y = tf.placeholder(tf.float32, y_data.shape, name='y')\n",
    "\n",
    "with tf.name_scope('hypothesis'):\n",
    "    # 权重变量 W，形状[3,1]\n",
    "    W = tf.get_variable(\"weights\",\n",
    "                        (X_data.shape[1], 1),\n",
    "                        initializer=tf.constant_initializer())\n",
    "    # 假设函数 h(x) = w0*x0+w1*x1+w2*x2, 其中x0恒为1\n",
    "    # 推理值 y_pred  形状[47,1]\n",
    "    y_pred = tf.matmul(X, W, name='y_pred')\n",
    "\n",
    "with tf.name_scope('loss'):\n",
    "    # 损失函数采用最小二乘法，y_pred - y 是形如[47, 1]的向量。\n",
    "    # tf.matmul(a,b,transpose_a=True) 表示：矩阵a的转置乘矩阵b，即 [1,47] X [47,1]\n",
    "    # 损失函数操作 loss\n",
    "    loss_op = 1 / (2 * len(X_data)) * tf.matmul((y_pred - y), (y_pred - y), transpose_a=True)\n",
    "    \n",
    "with tf.name_scope('train'):\n",
    "    # 随机梯度下降优化器 opt\n",
    "    train_op = tf.train.GradientDescentOptimizer(learning_rate=alpha).minimize(loss_op)"
   ]
  },
  {
   "cell_type": "markdown",
   "metadata": {},
   "source": [
    "# 创建会话（运行环境）"
   ]
  },
  {
   "cell_type": "code",
   "execution_count": 3,
   "metadata": {},
   "outputs": [
    {
     "name": "stdout",
     "output_type": "stream",
     "text": [
      "Epoch 10 \t Loss=0.4184 \t Model: y = 0.07163x1 + 0.0359x2 + 5.588e-11\n",
      "Epoch 20 \t Loss=0.3582 \t Model: y = 0.1423x1 + 0.06847x2 + -2.235e-10\n",
      "Epoch 30 \t Loss=0.3126 \t Model: y = 0.2048x1 + 0.09448x2 + -1.024e-10\n",
      "Epoch 40 \t Loss=0.2778 \t Model: y = 0.2603x1 + 0.115x2 + -5.029e-10\n",
      "Epoch 50 \t Loss=0.2512 \t Model: y = 0.3095x1 + 0.1308x2 + -5.495e-10\n",
      "Epoch 60 \t Loss=0.2306 \t Model: y = 0.3535x1 + 0.1426x2 + -6.24e-10\n",
      "Epoch 70 \t Loss=0.2145 \t Model: y = 0.3928x1 + 0.1512x2 + -7.357e-10\n",
      "Epoch 80 \t Loss=0.2018 \t Model: y = 0.428x1 + 0.157x2 + -6.24e-10\n",
      "Epoch 90 \t Loss=0.1917 \t Model: y = 0.4596x1 + 0.1605x2 + -8.661e-10\n",
      "Epoch 100 \t Loss=0.1835 \t Model: y = 0.4882x1 + 0.1621x2 + -9.872e-10\n",
      "Epoch 110 \t Loss=0.1769 \t Model: y = 0.5141x1 + 0.1621x2 + -7.357e-10\n",
      "Epoch 120 \t Loss=0.1714 \t Model: y = 0.5375x1 + 0.1608x2 + -6.659e-10\n",
      "Epoch 130 \t Loss=0.1668 \t Model: y = 0.5589x1 + 0.1584x2 + -1.01e-09\n",
      "Epoch 140 \t Loss=0.1629 \t Model: y = 0.5784x1 + 0.1552x2 + -9.267e-10\n",
      "Epoch 150 \t Loss=0.1596 \t Model: y = 0.5962x1 + 0.1513x2 + -7.637e-10\n",
      "Epoch 160 \t Loss=0.1567 \t Model: y = 0.6126x1 + 0.1469x2 + -7.101e-10\n",
      "Epoch 170 \t Loss=0.1542 \t Model: y = 0.6278x1 + 0.1421x2 + -4.657e-10\n",
      "Epoch 180 \t Loss=0.152 \t Model: y = 0.6417x1 + 0.1369x2 + -3.702e-10\n",
      "Epoch 190 \t Loss=0.15 \t Model: y = 0.6546x1 + 0.1316x2 + -2.212e-10\n",
      "Epoch 200 \t Loss=0.1483 \t Model: y = 0.6666x1 + 0.126x2 + -1.653e-10\n",
      "Epoch 210 \t Loss=0.1467 \t Model: y = 0.6778x1 + 0.1204x2 + -2.561e-10\n",
      "Epoch 220 \t Loss=0.1453 \t Model: y = 0.6882x1 + 0.1148x2 + -3.248e-10\n",
      "Epoch 230 \t Loss=0.144 \t Model: y = 0.698x1 + 0.1091x2 + -3.085e-10\n",
      "Epoch 240 \t Loss=0.1429 \t Model: y = 0.7071x1 + 0.1035x2 + -6.985e-12\n",
      "Epoch 250 \t Loss=0.1419 \t Model: y = 0.7156x1 + 0.09791x2 + 6.286e-11\n",
      "Epoch 260 \t Loss=0.1409 \t Model: y = 0.7237x1 + 0.09244x2 + 3.69e-10\n",
      "Epoch 270 \t Loss=0.14 \t Model: y = 0.7313x1 + 0.08706x2 + 1.269e-10\n",
      "Epoch 280 \t Loss=0.1393 \t Model: y = 0.7384x1 + 0.0818x2 + 1.793e-10\n",
      "Epoch 290 \t Loss=0.1385 \t Model: y = 0.7452x1 + 0.07667x2 + 3.009e-10\n",
      "Epoch 300 \t Loss=0.1379 \t Model: y = 0.7516x1 + 0.07167x2 + 6.164e-10\n",
      "Epoch 310 \t Loss=0.1373 \t Model: y = 0.7576x1 + 0.06682x2 + 1.125e-09\n",
      "Epoch 320 \t Loss=0.1367 \t Model: y = 0.7633x1 + 0.06211x2 + 1.191e-09\n",
      "Epoch 330 \t Loss=0.1362 \t Model: y = 0.7688x1 + 0.05755x2 + 1.4e-09\n",
      "Epoch 340 \t Loss=0.1358 \t Model: y = 0.7739x1 + 0.05314x2 + 1.523e-09\n",
      "Epoch 350 \t Loss=0.1353 \t Model: y = 0.7788x1 + 0.04887x2 + 1.681e-09\n",
      "Epoch 360 \t Loss=0.135 \t Model: y = 0.7835x1 + 0.04475x2 + 1.647e-09\n",
      "Epoch 370 \t Loss=0.1346 \t Model: y = 0.788x1 + 0.04078x2 + 1.477e-09\n",
      "Epoch 380 \t Loss=0.1343 \t Model: y = 0.7922x1 + 0.03696x2 + 1.38e-09\n",
      "Epoch 390 \t Loss=0.134 \t Model: y = 0.7962x1 + 0.03327x2 + 1.612e-09\n",
      "Epoch 400 \t Loss=0.1337 \t Model: y = 0.8001x1 + 0.02973x2 + 2.031e-09\n",
      "Epoch 410 \t Loss=0.1335 \t Model: y = 0.8037x1 + 0.02631x2 + 2.612e-09\n",
      "Epoch 420 \t Loss=0.1332 \t Model: y = 0.8072x1 + 0.02303x2 + 3.048e-09\n",
      "Epoch 430 \t Loss=0.133 \t Model: y = 0.8106x1 + 0.01988x2 + 3.046e-09\n",
      "Epoch 440 \t Loss=0.1328 \t Model: y = 0.8138x1 + 0.01685x2 + 3.736e-09\n",
      "Epoch 450 \t Loss=0.1327 \t Model: y = 0.8168x1 + 0.01394x2 + 4.052e-09\n",
      "Epoch 460 \t Loss=0.1325 \t Model: y = 0.8197x1 + 0.01115x2 + 4.426e-09\n",
      "Epoch 470 \t Loss=0.1323 \t Model: y = 0.8225x1 + 0.008466x2 + 4.013e-09\n",
      "Epoch 480 \t Loss=0.1322 \t Model: y = 0.8252x1 + 0.005893x2 + 3.952e-09\n",
      "Epoch 490 \t Loss=0.1321 \t Model: y = 0.8277x1 + 0.003424x2 + 4.426e-09\n",
      "Epoch 500 \t Loss=0.132 \t Model: y = 0.8301x1 + 0.001055x2 + 4.746e-09\n"
     ]
    }
   ],
   "source": [
    "with tf.Session() as sess:\n",
    "    # 初始化全局变量\n",
    "    sess.run(tf.global_variables_initializer())\n",
    "    # 创建FileWriter实例，并传入当前会话加载的数据流图\n",
    "    writer = tf.summary.FileWriter('./summary/linear-regression-1', sess.graph)\n",
    "    # 记录所有损失值\n",
    "    loss_data = []\n",
    "    # 开始训练模型\n",
    "    # 因为训练集较小，所以每轮都使用全量数据训练\n",
    "    for e in range(1, epoch + 1):\n",
    "        _, loss, w = sess.run([train_op, loss_op, W], feed_dict={X: X_data, y: y_data})\n",
    "        # 记录每一轮损失值变化情况\n",
    "        loss_data.append(float(loss))\n",
    "        if e % 10 == 0:\n",
    "            log_str = \"Epoch %d \\t Loss=%.4g \\t Model: y = %.4gx1 + %.4gx2 + %.4g\"\n",
    "            print(log_str % (e, loss, w[1], w[2], w[0]))\n",
    "\n",
    "# 关闭FileWriter的输出流\n",
    "writer.close()"
   ]
  },
  {
   "cell_type": "markdown",
   "metadata": {},
   "source": [
    "# 可视化损失值"
   ]
  },
  {
   "cell_type": "code",
   "execution_count": 4,
   "metadata": {},
   "outputs": [
    {
     "name": "stdout",
     "output_type": "stream",
     "text": [
      "500\n"
     ]
    }
   ],
   "source": [
    "print(len(loss_data))"
   ]
  },
  {
   "cell_type": "code",
   "execution_count": 5,
   "metadata": {},
   "outputs": [
    {
     "data": {
      "image/png": "[encoded data removed]",
      "text/plain": [
       "<matplotlib.figure.Figure at 0x28e289d5438>"
      ]
     },
     "metadata": {},
     "output_type": "display_data"
    }
   ],
   "source": [
    "import matplotlib.pyplot as plt\n",
    "import seaborn as sns\n",
    "sns.set(context=\"notebook\", style=\"whitegrid\", palette=\"dark\")\n",
    "\n",
    "ax = sns.lineplot(x='epoch', y='loss', data=pd.DataFrame({'loss': loss_data, 'epoch': np.arange(epoch)}))\n",
    "ax.set_xlabel('epoch')\n",
    "ax.set_ylabel('loss')\n",
    "plt.show()"
   ]
  },
  {
   "cell_type": "code",
   "execution_count": null,
   "metadata": {},
   "outputs": [],
   "source": []
  }
 ],
 "metadata": {
  "kernelspec": {
   "display_name": "Python 3",
   "language": "python",
   "name": "python3"
  },
  "language_info": {
   "codemirror_mode": {
    "name": "ipython",
    "version": 3
   },
   "file_extension": ".py",
   "mimetype": "text/x-python",
   "name": "python",
   "nbconvert_exporter": "python",
   "pygments_lexer": "ipython3",
   "version": "3.6.3"
  }
 },
 "nbformat": 4,
 "nbformat_minor": 2
}
