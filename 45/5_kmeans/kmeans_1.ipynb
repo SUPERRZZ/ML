{
 "cells": [
  {
   "cell_type": "code",
   "execution_count": 1,
   "metadata": {},
   "outputs": [],
   "source": [
    "import numpy as np\n",
    "import PIL.Image as image\n",
    "from sklearn.cluster import KMeans\n",
    "from sklearn import preprocessing"
   ]
  },
  {
   "cell_type": "code",
   "execution_count": 2,
   "metadata": {},
   "outputs": [],
   "source": [
    "# 加载图像，并对数据进行规范化\n",
    "def load_data(filePath):\n",
    "    # 读文件\n",
    "    f = open(filePath,'rb')\n",
    "    \n",
    "    data = []\n",
    "    \n",
    "    # 得到图像的像素值\n",
    "    img = image.open(f)\n",
    "    \n",
    "    # 得到图像尺寸\n",
    "    width, height = img.size\n",
    "    for x in range(width):\n",
    "        for y in range(height):\n",
    "            # 得到点(x,y)的三个通道值\n",
    "            # 因为 jpg 格式的图像是三个通道 (R,G,B)，也就是一个像素点具有 3 个特征值。\n",
    "            # 这里我们用 c1、c2、c3 来获取平面坐标点 (x,y) 的三个特征值，特征值是在 0-255 之间。\n",
    "            c1, c2, c3 = img.getpixel((x, y))\n",
    "            data.append([c1, c2, c3])\n",
    "    f.close()\n",
    "    \n",
    "    # 采用Min-Max规范化\n",
    "    # 为了加快聚类的收敛，我们需要采用 Min-Max 规范化对数据进行规范化。\n",
    "    mm = preprocessing.MinMaxScaler()\n",
    "    data = mm.fit_transform(data)\n",
    "    return np.mat(data), width, height"
   ]
  },
  {
   "cell_type": "code",
   "execution_count": 3,
   "metadata": {},
   "outputs": [],
   "source": [
    "# 加载图像，得到规范化的结果img，以及图像尺寸\n",
    "img, width, height = load_data('weixin.jpg')"
   ]
  },
  {
   "cell_type": "code",
   "execution_count": 5,
   "metadata": {},
   "outputs": [
    {
     "name": "stdout",
     "output_type": "stream",
     "text": [
      "[[0.         0.         0.        ]\n",
      " [0.         0.         0.        ]\n",
      " [0.         0.         0.        ]\n",
      " ...\n",
      " [0.00865801 0.04310345 0.08606557]\n",
      " [0.00865801 0.04310345 0.08606557]\n",
      " [0.00865801 0.04310345 0.08606557]]\n",
      "100\n",
      "177\n"
     ]
    }
   ],
   "source": [
    "print(img)\n",
    "print(width)\n",
    "print(height)"
   ]
  },
  {
   "cell_type": "code",
   "execution_count": 6,
   "metadata": {},
   "outputs": [],
   "source": [
    "# 用K-Means对图像进行2聚类\n",
    "kmeans =KMeans(n_clusters=2)\n",
    "kmeans.fit(img)\n",
    "label = kmeans.predict(img)"
   ]
  },
  {
   "cell_type": "code",
   "execution_count": 7,
   "metadata": {},
   "outputs": [],
   "source": [
    "# 将图像聚类结果，转化成图像尺寸的矩阵\n",
    "label = label.reshape([width, height])"
   ]
  },
  {
   "cell_type": "code",
   "execution_count": 8,
   "metadata": {},
   "outputs": [],
   "source": [
    "# 如果你想对图像聚类的结果进行可视化，直接看0和1是看不出来的，还需要将0和1转化为灰度值。\n",
    "# 灰度值一般是在0-255的范围内，我们可以将label=0设定为灰度值255，label=1设定为灰度值127。\n",
    "# 具体方法是用 int(256/(label[x][y]+1))-1。\n",
    "# 可视化的时候，主要是通过设置图像的灰度值进行显示。\n",
    "# 所以我们把聚类label=0的像素点都统一设置灰度值为 255，把聚类label=1的像素点都统一设置灰度值为127。\n",
    "# 原来图像的灰度值是在0-255之间，现在就只有2种颜色（也就是灰度为255，和灰度127）。\n",
    "\n",
    "# 创建个新图像pic_mark，用来保存图像聚类的结果，并设置不同的灰度值\n",
    "pic_mark = image.new(\"L\", (width, height))\n",
    "for x in range(width):\n",
    "    for y in range(height):\n",
    "        # 根据类别设置图像灰度, 类别0 灰度值为255， 类别1 灰度值为127\n",
    "        pic_mark.putpixel((x, y), int(256/(label[x][y]+1))-1)\n",
    "pic_mark.save(\"weixin_mark.jpg\", \"JPEG\")"
   ]
  },
  {
   "cell_type": "code",
   "execution_count": null,
   "metadata": {},
   "outputs": [],
   "source": []
  },
  {
   "cell_type": "code",
   "execution_count": null,
   "metadata": {},
   "outputs": [],
   "source": []
  },
  {
   "cell_type": "code",
   "execution_count": null,
   "metadata": {},
   "outputs": [],
   "source": []
  },
  {
   "cell_type": "code",
   "execution_count": 9,
   "metadata": {},
   "outputs": [],
   "source": [
    "# 用K-Means对图像进行16聚类\n",
    "kmeans =KMeans(n_clusters=16)\n",
    "kmeans.fit(img)\n",
    "label = kmeans.predict(img)"
   ]
  },
  {
   "cell_type": "code",
   "execution_count": 10,
   "metadata": {},
   "outputs": [],
   "source": [
    "# 将图像聚类结果，转化成图像尺寸的矩阵\n",
    "label = label.reshape([width, height])"
   ]
  },
  {
   "cell_type": "code",
   "execution_count": 11,
   "metadata": {},
   "outputs": [
    {
     "name": "stdout",
     "output_type": "stream",
     "text": [
      "[[4 4 4 ... 9 9 9]\n",
      " [4 4 4 ... 9 9 9]\n",
      " [4 4 4 ... 9 9 9]\n",
      " ...\n",
      " [4 4 4 ... 9 9 9]\n",
      " [4 4 4 ... 9 9 9]\n",
      " [4 4 4 ... 9 9 9]]\n"
     ]
    }
   ],
   "source": [
    "print(label)"
   ]
  },
  {
   "cell_type": "code",
   "execution_count": 16,
   "metadata": {},
   "outputs": [
    {
     "ename": "ImportError",
     "evalue": "cannot import name 'img_as_float32'",
     "output_type": "error",
     "traceback": [
      "\u001b[1;31m---------------------------------------------------------------------------\u001b[0m",
      "\u001b[1;31mImportError\u001b[0m                               Traceback (most recent call last)",
      "\u001b[1;32m<ipython-input-16-d802e7b6afc0>\u001b[0m in \u001b[0;36m<module>\u001b[1;34m()\u001b[0m\n\u001b[1;32m----> 1\u001b[1;33m \u001b[1;32mfrom\u001b[0m \u001b[0mskimage\u001b[0m \u001b[1;32mimport\u001b[0m \u001b[0mcolor\u001b[0m\u001b[1;33m\u001b[0m\u001b[0m\n\u001b[0m\u001b[0;32m      2\u001b[0m \u001b[1;33m\u001b[0m\u001b[0m\n\u001b[0;32m      3\u001b[0m \u001b[1;31m# 使用 skimage 中的 label2rgb 函数来将 label 分类标识转化为颜色数值，因为我们的颜色值范围是 [0,255]，所以还需要乘以 255 进行转化，最后再转化为 np.uint8\u001b[0m\u001b[1;33m\u001b[0m\u001b[1;33m\u001b[0m\u001b[0m\n\u001b[0;32m      4\u001b[0m \u001b[1;31m# 类型。unit8 类型代表无符号整数，范围是 0-255 之间。\u001b[0m\u001b[1;33m\u001b[0m\u001b[1;33m\u001b[0m\u001b[0m\n\u001b[0;32m      5\u001b[0m \u001b[1;31m# 将聚类标识矩阵转化为不同颜色的矩阵\u001b[0m\u001b[1;33m\u001b[0m\u001b[1;33m\u001b[0m\u001b[0m\n",
      "\u001b[1;32mD:\\Anaconda\\lib\\site-packages\\skimage\\__init__.py\u001b[0m in \u001b[0;36m<module>\u001b[1;34m()\u001b[0m\n\u001b[0;32m    125\u001b[0m \u001b[1;33m\u001b[0m\u001b[0m\n\u001b[0;32m    126\u001b[0m     \u001b[1;31m# All skimage root imports go here\u001b[0m\u001b[1;33m\u001b[0m\u001b[1;33m\u001b[0m\u001b[0m\n\u001b[1;32m--> 127\u001b[1;33m     from .util.dtype import (img_as_float32,\n\u001b[0m\u001b[0;32m    128\u001b[0m                              \u001b[0mimg_as_float64\u001b[0m\u001b[1;33m,\u001b[0m\u001b[1;33m\u001b[0m\u001b[0m\n\u001b[0;32m    129\u001b[0m                              \u001b[0mimg_as_float\u001b[0m\u001b[1;33m,\u001b[0m\u001b[1;33m\u001b[0m\u001b[0m\n",
      "\u001b[1;31mImportError\u001b[0m: cannot import name 'img_as_float32'"
     ]
    }
   ],
   "source": [
    "from skimage import color\n",
    "\n",
    "# 使用 skimage 中的 label2rgb 函数来将 label 分类标识转化为颜色数值，因为我们的颜色值范围是 [0,255]，所以还需要乘以 255 进行转化，最后再转化为 np.uint8\n",
    "# 类型。unit8 类型代表无符号整数，范围是 0-255 之间。\n",
    "# 将聚类标识矩阵转化为不同颜色的矩阵\n",
    "label_color = (color.label2rgb(label)*255).astype(np.uint8)\n",
    "\n",
    "# 得到颜色矩阵后，你可以把它输出出来，这时你发现输出的图像是颠倒的，原因可能是图像源拍摄的时候本身是倒置的。\n",
    "# 我们需要设置三维矩阵的转置，让第一维和第二维颠倒过来，也就是使用 transpose(1,0,2)，将原来的 (0,1,2）顺序转化为 (1,0,2) 顺序，即第一维和第二维互换。\n",
    "label_color = label_color.transpose(1,0,2)\n",
    "\n",
    "# 使用 fromarray 函数，它可以通过矩阵来生成图片，并使用 save 进行保存。\n",
    "images = image.fromarray(label_color)\n",
    "images.save('weixin_mark_color.jpg')"
   ]
  },
  {
   "cell_type": "code",
   "execution_count": null,
   "metadata": {},
   "outputs": [],
   "source": []
  },
  {
   "cell_type": "code",
   "execution_count": null,
   "metadata": {},
   "outputs": [],
   "source": []
  },
  {
   "cell_type": "code",
   "execution_count": null,
   "metadata": {},
   "outputs": [],
   "source": []
  },
  {
   "cell_type": "code",
   "execution_count": 17,
   "metadata": {},
   "outputs": [],
   "source": [
    "# 创建个新图像img，用来保存图像聚类压缩后的结果\n",
    "img=image.new('RGB', (width, height))\n",
    "for x in range(width):\n",
    "    for y in range(height):\n",
    "        c1 = kmeans.cluster_centers_[label[x, y], 0]\n",
    "        c2 = kmeans.cluster_centers_[label[x, y], 1]\n",
    "        c3 = kmeans.cluster_centers_[label[x, y], 2]\n",
    "        img.putpixel((x, y), (int(c1*256)-1, int(c2*256)-1, int(c3*256)-1))\n",
    "img.save('weixin_new.jpg')"
   ]
  },
  {
   "cell_type": "code",
   "execution_count": null,
   "metadata": {},
   "outputs": [],
   "source": []
  }
 ],
 "metadata": {
  "kernelspec": {
   "display_name": "Python 3",
   "language": "python",
   "name": "python3"
  },
  "language_info": {
   "codemirror_mode": {
    "name": "ipython",
    "version": 3
   },
   "file_extension": ".py",
   "mimetype": "text/x-python",
   "name": "python",
   "nbconvert_exporter": "python",
   "pygments_lexer": "ipython3",
   "version": "3.6.3"
  }
 },
 "nbformat": 4,
 "nbformat_minor": 2
}
